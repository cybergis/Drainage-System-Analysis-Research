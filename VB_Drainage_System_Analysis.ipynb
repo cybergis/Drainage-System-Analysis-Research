{
 "cells": [
  {
   "cell_type": "markdown",
   "metadata": {},
   "source": [
    "<h1 style=\"text-align:center;line-height:1.5em;font-size:30px;\">Notebook for A Vector Approach to Drainage Network Analysis Based on LiDAR Data</h1>\n",
    "<p style=\"text-align:center;font-size:12px;\">\n",
    "$Fangzheng$ $Lyu^{1,2}$, $Zewei$ $Xu^{1,2}$, $Xinlin$ $Ma^{3}$, $Shaohua$ $Wang^{1,2}$, $Zhiyu$ $Li^{1,2}$, $Shaowen$ $Wang^{1,2}$\n",
    "</p>\n",
    "<p style=\"text-align:center;font-size:12px;\">\n",
    "$^{1}$$Department$ $of$ $Geography$ $and$ $Geographic$ $Information$ $Science$, $University$ $of$ $Illinois$ $at$ $Urbana-Champaign$, $Urbana$, $IL$, $USA$<br>\n",
    "$^{2}$$CyberGIS$ $Center$ $for$ $Advanced$ $Digital$ $and$ $Spatial$ $Studies$, $University$ $of$ $Illinois$ $at$ $Urbana-Champaign$, $Urbana$, $IL$, $USA$<br>\n",
    "$^{3}$$Department$ $of$ $Management$ $and$ $Urban$ $Planning$, $Tsinghua$ $University$, $Beijing$, $China$<br>\n",
    "\n",
    "$Corresponding$ $Author:$ $shaowen@illinois.edu$\n",
    "</p>\n"
   ]
  },
  {
   "cell_type": "markdown",
   "metadata": {},
   "source": [
    "Drainage network analysis is fundamental to understanding the characteristics of surface hydrology. Based on elevation data, drainage network analysis is often used to extract key hydrological features like drainage networks and streamlines. Limited by raster-based data models, conventional drainage network algorithms typically allow water to flow in 4 or 8 directions (surrounding grids) from a raster grid. To resolve this limitation, this paper describes a new vector-based method for drainage network analysis that allows water to flow in any direction around each location. The method is enabled by rapid advances in Light Detection and Ranging (LiDAR) remote sensing and high-performance computing. The drainage network analysis is conducted using a high-density point cloud instead of Digital Elevation Models (DEMs) at coarse resolutions. Our computational experiments show that the vector-based method can better capture water flows without limiting the number of directions due to imprecise DEMs. Our case study applies the method to Rowan County watershed, North Carolina in the US. After comparing the drainage networks and streamlines detected with corresponding reference data from US Geological Survey generated from the Geonet software, we find that the new method performs well in capturing the characteristics of water flows on landscape surfaces in order to form an accurate drainage network."
   ]
  },
  {
   "cell_type": "markdown",
   "metadata": {},
   "source": [
    "This notebook is a sample notebook for running a small size dataset (from the LiDAR dataset of Rowan Watershed) with our new method for drainage system analysis. The algorithm is implemented with an execuation sample dataset."
   ]
  },
  {
   "cell_type": "markdown",
   "metadata": {},
   "source": [
    "## Table of Contents\n",
    "* [Psudocode](#psudocode)\n",
    "* [Set up](#chapter1)\n",
    "    * [Import Library](#section_1_1)\n",
    "    * [Set up input variables](#section_1_2)\n",
    "    * [Read LiDAR data using laspy](#section_1_3)\n",
    "* [Create a hash table](#chapter2)\n",
    "* [Elevation Function](#chapter3)\n",
    "* [Simulate the water flow](#chapter4)\n",
    "    * [Track the flow direction](#section_4_1)\n",
    "* [Visulization](#chapter5)"
   ]
  },
  {
   "cell_type": "markdown",
   "metadata": {},
   "source": [
    "## Psudocode <img src=\"Picture1.png\">"
   ]
  },
  {
   "cell_type": "markdown",
   "metadata": {},
   "source": [
    "## Set up <a class=\"anchor\" id=\"chapter1\"></a>\n",
    "The Library used for in the algorithm is set up here"
   ]
  },
  {
   "cell_type": "markdown",
   "metadata": {},
   "source": [
    "### Download Library & Import Library <a class=\"anchor\" id=\"section_1_1\"></a>"
   ]
  },
  {
   "cell_type": "markdown",
   "metadata": {},
   "source": [
    "Install Dependency"
   ]
  },
  {
   "cell_type": "code",
   "execution_count": null,
   "metadata": {},
   "outputs": [],
   "source": [
    "# pep8 check\n",
    "!pip install flake8==3.9.2 pycodestyle_magic==0.5 laspy==1.7.0 gdown==3.13.0"
   ]
  },
  {
   "cell_type": "code",
   "execution_count": null,
   "metadata": {},
   "outputs": [],
   "source": [
    "%load_ext pycodestyle_magic\n",
    "#%pycodestyle_on\n",
    "%flake8_on --ignore E501,E251,E231,E225"
   ]
  },
  {
   "cell_type": "markdown",
   "metadata": {},
   "source": [
    "Import library"
   ]
  },
  {
   "cell_type": "code",
   "execution_count": null,
   "metadata": {},
   "outputs": [],
   "source": [
    "import datetime\n",
    "import laspy\n",
    "import numpy as np\n",
    "import pandas as pd\n",
    "from numpy.linalg import inv\n",
    "import math\n",
    "import sys"
   ]
  },
  {
   "cell_type": "markdown",
   "metadata": {},
   "source": [
    "### Set up input variables <a class=\"anchor\" id=\"section_1_2\"></a>"
   ]
  },
  {
   "cell_type": "code",
   "execution_count": null,
   "metadata": {},
   "outputs": [],
   "source": [
    "# var1 is the starting location in the x-axis\n",
    "var1 = 5\n",
    "# var2 is the starting location in the y-axis\n",
    "var2 = 5\n",
    "# var3 is the angle different we want\n",
    "var3 = 30"
   ]
  },
  {
   "cell_type": "markdown",
   "metadata": {},
   "source": [
    "### Prepare sample LiDAR data <a class=\"anchor\" id=\"section_1_3\"></a>"
   ]
  },
  {
   "cell_type": "code",
   "execution_count": null,
   "metadata": {},
   "outputs": [],
   "source": [
    "import os\n",
    "from shutil import copyfile\n",
    "import gdown\n",
    "\n",
    "# download sample data if it is not local\n",
    "local_sample_path = \"./3_2.las\"\n",
    "if not os.path.isfile(local_sample_path):\n",
    "    print(\"Missing sample data!\")\n",
    "    sample_shared = \"/home/jovyan/shared_data/data/drainage_system_analysis_research/3_2.las\"\n",
    "    if os.path.join(sample_shared):\n",
    "        print(\"Copying sample data from shared folder...\")\n",
    "        copyfile(sample_shared, local_sample_path)\n",
    "    else:\n",
    "        print(\"Copying sample data from shared google drive...\")\n",
    "        url_gdrive = 'https://drive.google.com/uc?id=1JOl1IylIZg72QdMM89xs10NLFk4rObml'\n",
    "        gdown.download(url_gdrive, local_sample_path, quiet=False)\n",
    "else:\n",
    "    print(\"Sample data already exists\")\n",
    "if not os.path.isfile(local_sample_path):\n",
    "    print(\"Can not retrieve sample data!\")"
   ]
  },
  {
   "cell_type": "code",
   "execution_count": null,
   "metadata": {},
   "outputs": [],
   "source": [
    "!ls {local_sample_path} -alh"
   ]
  },
  {
   "cell_type": "markdown",
   "metadata": {},
   "source": [
    "### Read LiDAR data using laspy <a class=\"anchor\" id=\"section_1_3\"></a>"
   ]
  },
  {
   "cell_type": "code",
   "execution_count": null,
   "metadata": {},
   "outputs": [],
   "source": [
    "# Store the LiDAR data as infile\n",
    "infile = laspy.file.File(local_sample_path, mode=\"r\")\n",
    "# Get the value for x axis, y axis, and elevation for LiDAR point cloud\n",
    "ground_x = infile.x\n",
    "ground_y = infile.y\n",
    "ground_z = infile.z\n",
    "# Normalize the output for the LiDAR file\n",
    "ground_x_2 = ground_x-ground_x.min()\n",
    "ground_y_2 = ground_y-ground_y.min()"
   ]
  },
  {
   "cell_type": "markdown",
   "metadata": {},
   "source": [
    "The total amount of LiDAR point in the LiDAR file"
   ]
  },
  {
   "cell_type": "code",
   "execution_count": null,
   "metadata": {},
   "outputs": [],
   "source": [
    "len(ground_z)"
   ]
  },
  {
   "cell_type": "markdown",
   "metadata": {},
   "source": [
    "The x, y, z value for points in the LiDAR file are stored"
   ]
  },
  {
   "cell_type": "code",
   "execution_count": null,
   "metadata": {},
   "outputs": [],
   "source": [
    "x = ground_x_2\n",
    "y = ground_y_2\n",
    "z = ground_z"
   ]
  },
  {
   "cell_type": "markdown",
   "metadata": {},
   "source": [
    "Use a dictionary to store the datset"
   ]
  },
  {
   "cell_type": "code",
   "execution_count": null,
   "metadata": {},
   "outputs": [],
   "source": [
    "threedarray = np.vstack((x,y,z)).T\n",
    "dictionary = pd.Series(threedarray.tolist(), index=map(lambda a: round(a,2), x.tolist()))"
   ]
  },
  {
   "cell_type": "markdown",
   "metadata": {},
   "source": [
    "An example of the format of the dataset"
   ]
  },
  {
   "cell_type": "code",
   "execution_count": null,
   "metadata": {},
   "outputs": [],
   "source": [
    "dictionary[1.11]"
   ]
  },
  {
   "cell_type": "markdown",
   "metadata": {},
   "source": [
    "## Create a hash table data structure to store the LiDAR data <a class=\"anchor\" id=\"chapter2\"></a>"
   ]
  },
  {
   "cell_type": "markdown",
   "metadata": {},
   "source": [
    "Create the index for each LiDAR data point"
   ]
  },
  {
   "cell_type": "code",
   "execution_count": null,
   "metadata": {},
   "outputs": [],
   "source": [
    "list_a = map(lambda a: 10000*int(a), x.tolist())\n",
    "list_b = map(lambda a: int(a), y.tolist())\n",
    "index_list = [sum(x) for x in zip(list_a, list_b)]"
   ]
  },
  {
   "cell_type": "markdown",
   "metadata": {},
   "source": [
    "Generate the hash table and use dictionary data structure to store the dataset"
   ]
  },
  {
   "cell_type": "code",
   "execution_count": null,
   "metadata": {},
   "outputs": [],
   "source": [
    "grid_dictionary = pd.Series(threedarray.tolist(), index=index_list)"
   ]
  },
  {
   "cell_type": "markdown",
   "metadata": {},
   "source": [
    "Get a overview of the dataset"
   ]
  },
  {
   "cell_type": "code",
   "execution_count": null,
   "metadata": {
    "scrolled": true
   },
   "outputs": [],
   "source": [
    "grid_dictionary"
   ]
  },
  {
   "cell_type": "markdown",
   "metadata": {},
   "source": [
    "## Function to find the elevation  <a class=\"anchor\" id=\"chapter3\"></a>"
   ]
  },
  {
   "cell_type": "markdown",
   "metadata": {},
   "source": [
    "This is the function used in the algorithm to find the elevation of any given point (x, y) using bilinear interpolation."
   ]
  },
  {
   "cell_type": "code",
   "execution_count": null,
   "metadata": {},
   "outputs": [],
   "source": [
    "def find_elevation_new(x, y):\n",
    "    # bilinear interpolation\n",
    "    storage = []\n",
    "    # curr_index = 10000*int(x)+int(y)\n",
    "    diff = 0\n",
    "    while(len(storage)<4):\n",
    "        # Find all the data within the nearby grid\n",
    "        temp = []\n",
    "        # For loop here to find candidate points for bilinear interpolation\n",
    "        for i in range(int(x-diff), int(x+diff+1)):\n",
    "            for j in range(int(y-diff), int(y+diff+1)):\n",
    "                if (i==int(x-diff) or i==int(x+diff) or j==int(y-diff) or j==int(y+diff)):\n",
    "                    try:\n",
    "                        rt = grid_dictionary[10000*i+j]\n",
    "                        if (type(rt)==list):\n",
    "                            temp.append(rt)\n",
    "                        else:\n",
    "                            for it in range(0,len(rt)):\n",
    "                                temp.append(rt[it])\n",
    "                    except Exception:\n",
    "                        useless = 1\n",
    "        temp.sort(key = lambda e: (e[0]-x)*(e[0]-x)+(e[1]-y)*(e[1]-y))\n",
    "        if (len(storage)+len(temp) <= 4):\n",
    "            # add them\n",
    "            for i in range(0,len(temp)):\n",
    "                storage.append(temp[i])\n",
    "        else:\n",
    "            k = 0\n",
    "            while(len(storage) != 4):\n",
    "                storage.append(temp[k])\n",
    "                k = k+1\n",
    "        diff = diff+1\n",
    "    # find the points used for data interpolation\n",
    "    new_storage = storage[:4]\n",
    "    a = [[1,new_storage[0][0], new_storage[0][1], new_storage[0][0]*new_storage[0][1]],\n",
    "         [1, new_storage[1][0], new_storage[1][1], new_storage[1][0]*new_storage[1][1]],\n",
    "         [1, new_storage[2][0], new_storage[2][1], new_storage[2][0]*new_storage[2][1]],\n",
    "         [1, new_storage[3][0], new_storage[3][1], new_storage[3][0]*new_storage[3][1]]]\n",
    "    b = [new_storage[0][2], new_storage[1][2], new_storage[2][2], new_storage[3][2]]\n",
    "    try:\n",
    "        # Conduct bilinear interpolation\n",
    "        coef_matrix = np.matmul(inv(a), b)\n",
    "        rt = coef_matrix[0]+coef_matrix[1]*x+coef_matrix[2]*y+coef_matrix[3]*x*y\n",
    "        return rt\n",
    "    except Exception:\n",
    "        return 10000"
   ]
  },
  {
   "cell_type": "markdown",
   "metadata": {},
   "source": [
    "## Simulate the water flow <a class=\"anchor\" id=\"chapter4\"></a>\n",
    "This is the major step in the algorithm that is used for simulation of the water flow.\n",
    "\n",
    "<span style=\"color:red\">This cell may run up to ~15 mins.</style>"
   ]
  },
  {
   "cell_type": "code",
   "execution_count": null,
   "metadata": {},
   "outputs": [],
   "source": [
    "# The area_length variable here represents how large the area the users want to calculate.\n",
    "area_length = 10\n",
    "\n",
    "# Print the current time before the execution of the algorithm\n",
    "print(datetime.datetime.now())\n",
    "min_x = var1*100\n",
    "min_y = var2*100\n",
    "max_x = var1*100+area_length\n",
    "max_y = var2*100+area_length\n",
    "increment = 1\n",
    "angle = var3\n",
    "x_coord = min_x\n",
    "y_coord = min_y\n",
    "rt = []\n",
    "while x_coord!=(max_x+1):\n",
    "    while y_coord!=(max_y+1):\n",
    "        # find the elevation of the current coordinate\n",
    "        curr_elevation = find_elevation_new(x_coord, y_coord)\n",
    "        curr_x = x_coord\n",
    "        curr_y = y_coord\n",
    "        # print(\"Starting Point:\")\n",
    "        print((curr_x,curr_y))\n",
    "        curr_array = []\n",
    "        while ((curr_x>=min_x and curr_x<=max_x) and (curr_y>=min_y and curr_y<=max_y)):\n",
    "            # print((curr_x, curr_y, curr_elevation))\n",
    "            curr_array.append((curr_x, curr_y))\n",
    "            rt_x = curr_x\n",
    "            rt_y = curr_y\n",
    "            rt_elevation = curr_elevation\n",
    "            angel_diff = 0\n",
    "            # find the elevation of all candidate points\n",
    "            while(angel_diff<360):\n",
    "                new_x = curr_x+increment*math.sin(math.pi/180*angel_diff)\n",
    "                new_y = curr_y+increment*math.cos(math.pi/180*angel_diff)\n",
    "                new_elevation = find_elevation_new(new_x, new_y)\n",
    "                # print((angel_diff,new_x,new_y,new_elevation,rt_x,rt_y,rt_elevation))\n",
    "                if (new_elevation<rt_elevation):\n",
    "                    rt_x = new_x\n",
    "                    rt_y = new_y\n",
    "                    rt_elevation = new_elevation\n",
    "                angel_diff = angel_diff+angle\n",
    "            # Check if the data is a pit or not\n",
    "            if (rt_elevation<curr_elevation):\n",
    "                curr_x = rt_x\n",
    "                curr_y = rt_y\n",
    "                curr_elevation = rt_elevation\n",
    "            else:\n",
    "                break\n",
    "        rt.append(curr_array)\n",
    "        # print(\"Result For:\")\n",
    "        # print((x_coord,y_coord))\n",
    "        # print(curr_array)\n",
    "        y_coord=y_coord+1\n",
    "    y_coord = min_y\n",
    "    x_coord=x_coord+1\n",
    "# Print the end time of the execution\n",
    "print(datetime.datetime.now())"
   ]
  },
  {
   "cell_type": "markdown",
   "metadata": {},
   "source": [
    "Print the simulated water flow"
   ]
  },
  {
   "cell_type": "code",
   "execution_count": null,
   "metadata": {
    "scrolled": true
   },
   "outputs": [],
   "source": [
    "print(rt)\n",
    "    \n",
    "data = []\n",
    "# Print the simulated waterflow\n",
    "for i in range(0,area_length+1):\n",
    "    data.append([0]*(area_length+1))\n"
   ]
  },
  {
   "cell_type": "markdown",
   "metadata": {},
   "source": [
    "### Track the flow direction <a class=\"anchor\" id=\"section_4_1\"></a>"
   ]
  },
  {
   "cell_type": "code",
   "execution_count": null,
   "metadata": {},
   "outputs": [],
   "source": [
    "for i in range(0,len(rt)):\n",
    "    for j in range(0,len(rt[i])):\n",
    "        data[int(math.floor(rt[i][j][0]))-var1*100][int(math.floor(rt[i][j][1]))-var2*100]=data[int(math.floor(rt[i][j][0]))-var1*100][int(math.floor(rt[i][j][1]))-var2*100]+1"
   ]
  },
  {
   "cell_type": "markdown",
   "metadata": {},
   "source": [
    "## Visulization<a class=\"anchor\" id=\"chapter5\"></a>"
   ]
  },
  {
   "cell_type": "markdown",
   "metadata": {},
   "source": [
    "The result after tracking the water direction"
   ]
  },
  {
   "cell_type": "code",
   "execution_count": null,
   "metadata": {},
   "outputs": [],
   "source": [
    "print(data)"
   ]
  },
  {
   "cell_type": "markdown",
   "metadata": {},
   "source": [
    "Simple visulization of the result, with brighter area having more water flowing through"
   ]
  },
  {
   "cell_type": "code",
   "execution_count": null,
   "metadata": {},
   "outputs": [],
   "source": [
    "%matplotlib inline\n",
    "import matplotlib.pyplot as plt\n",
    "\n",
    "plt.imshow(data, interpolation='none')\n",
    "plt.show()"
   ]
  }
 ],
 "metadata": {
  "kernelspec": {
   "display_name": "Python 3",
   "language": "python",
   "name": "python3"
  },
  "language_info": {
   "codemirror_mode": {
    "name": "ipython",
    "version": 3
   },
   "file_extension": ".py",
   "mimetype": "text/x-python",
   "name": "python",
   "nbconvert_exporter": "python",
   "pygments_lexer": "ipython3",
   "version": "3.7.6"
  }
 },
 "nbformat": 4,
 "nbformat_minor": 4
}
