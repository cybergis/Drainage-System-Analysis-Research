{
 "cells": [
  {
   "cell_type": "markdown",
   "metadata": {},
   "source": [
    "<h1 style=\"text-align:center;line-height:1.5em;font-size:30px;\">Notebook for A Vector Approach to Drainage Network Analysis Based on LiDAR Data</h1>\n",
    "<p style=\"text-align:center;font-size:12px;\">\n",
    "$Fangzheng$ $Lyu^{1,2}$, $Zewei$ $Xu^{1,2}$, $Xinlin$ $Ma^{3}$, $Shaohua$ $Wang^{1,2}$, $Zhiyu$ $Li^{1,2}$, $Shaowen$ $Wang^{1,2}$\n",
    "</p>\n",
    "<p style=\"text-align:center;font-size:12px;\">\n",
    "$^{1}$$Department$ $of$ $Geography$ $and$ $Geographic$ $Information$ $Science$, $University$ $of$ $Illinois$ $at$ $Urbana-Champaign$, $Urbana$, $IL$, $USA$<br>\n",
    "$^{2}$$CyberGIS$ $Center$ $for$ $Advanced$ $Digital$ $and$ $Spatial$ $Studies$, $University$ $of$ $Illinois$ $at$ $Urbana-Champaign$, $Urbana$, $IL$, $USA$<br>\n",
    "$^{3}$$Department$ $of$ $Management$ $and$ $Urban$ $Planning$, $Tsinghua$ $University$, $Beijing$, $China$<br>\n",
    "\n",
    "$Corresponding$ $Author:$ $shaowen@illinois.edu$\n",
    "</p>\n"
   ]
  },
  {
   "cell_type": "markdown",
   "metadata": {},
   "source": [
    "Drainage network analysis is fundamental to understanding the characteristics of surface hydrology. Based on elevation data, drainage network analysis is often used to extract key hydrological features like drainage networks and streamlines. Limited by raster-based data models, conventional drainage network algorithms typically allow water to flow in 4 or 8 directions (surrounding grids) from a raster grid. To resolve this limitation, this paper describes a new vector-based method for drainage network analysis that allows water to flow in any direction around each location. The method is enabled by rapid advances in Light Detection and Ranging (LiDAR) remote sensing and high-performance computing. The drainage network analysis is conducted using a high-density point cloud instead of Digital Elevation Models (DEMs) at coarse resolutions. Our computational experiments show that the vector-based method can better capture water flows without limiting the number of directions due to imprecise DEMs. Our case study applies the method to Rowan County watershed, North Carolina in the US. After comparing the drainage networks and streamlines detected with corresponding reference data from US Geological Survey generated from the Geonet software, we find that the new method performs well in capturing the characteristics of water flows on landscape surfaces in order to form an accurate drainage network."
   ]
  },
  {
   "cell_type": "markdown",
   "metadata": {},
   "source": [
    "This notebook is a sample notebook for running a small size dataset (from the LiDAR dataset of Rowan Watershed) with our new method for drainage system analysis. The algorithm is implemented with an execuation sample dataset."
   ]
  },
  {
   "cell_type": "markdown",
   "metadata": {},
   "source": [
    "## Table of Contents\n",
    "* [Psudocode](#psudocode)\n",
    "* [Set up](#chapter1)\n",
    "    * [Import Library](#section_1_1)\n",
    "    * [Set up input variables](#section_1_2)\n",
    "    * [Read LiDAR data using laspy](#section_1_3)\n",
    "* [Create a hash table](#chapter2)\n",
    "* [Elevation Function](#chapter3)\n",
    "* [Simulate the water flow](#chapter4)\n",
    "    * [Track the flow direction](#section_4_1)\n",
    "* [Visulization](#chapter5)"
   ]
  },
  {
   "cell_type": "markdown",
   "metadata": {},
   "source": [
    "## Psudocode <img src=\"Picture1.png\">"
   ]
  },
  {
   "cell_type": "markdown",
   "metadata": {},
   "source": [
    "## Set up <a class=\"anchor\" id=\"chapter1\"></a>\n",
    "The Library used for in the algorithm is set up here"
   ]
  },
  {
   "cell_type": "markdown",
   "metadata": {},
   "source": [
    "### Download Library & Import Library <a class=\"anchor\" id=\"section_1_1\"></a>"
   ]
  },
  {
   "cell_type": "markdown",
   "metadata": {},
   "source": [
    "Install Dependency"
   ]
  },
  {
   "cell_type": "code",
   "execution_count": 1,
   "metadata": {},
   "outputs": [
    {
     "name": "stdout",
     "output_type": "stream",
     "text": [
      "Collecting laspy==1.7.0\n",
      "  Downloading laspy-1.7.0-py2.py3-none-any.whl (489 kB)\n",
      "\u001b[K     |████████████████████████████████| 489 kB 9.2 MB/s eta 0:00:01\n",
      "\u001b[?25hRequirement already satisfied: numpy in /opt/conda/lib/python3.7/site-packages (from laspy==1.7.0) (1.18.1)\n",
      "Installing collected packages: laspy\n",
      "Successfully installed laspy-1.7.0\n"
     ]
    }
   ],
   "source": [
    "!pip install laspy==1.7.0"
   ]
  },
  {
   "cell_type": "markdown",
   "metadata": {},
   "source": [
    "Import library"
   ]
  },
  {
   "cell_type": "code",
   "execution_count": 4,
   "metadata": {},
   "outputs": [],
   "source": [
    "import datetime\n",
    "import laspy\n",
    "import numpy as np\n",
    "import pandas as pd\n",
    "from numpy.linalg import inv\n",
    "import math\n",
    "import datetime\n",
    "import sys"
   ]
  },
  {
   "cell_type": "markdown",
   "metadata": {},
   "source": [
    "### Set up input variables <a class=\"anchor\" id=\"section_1_2\"></a>"
   ]
  },
  {
   "cell_type": "code",
   "execution_count": 5,
   "metadata": {},
   "outputs": [],
   "source": [
    "## var1 is the starting location in the x-axis\n",
    "## var2 is the starting location in the y-axis\n",
    "## var3 is the angle different we want\n",
    "var1 = 5\n",
    "var2 = 5\n",
    "var3 = 30"
   ]
  },
  {
   "cell_type": "markdown",
   "metadata": {},
   "source": [
    "### Read LiDAR data using laspy <a class=\"anchor\" id=\"section_1_3\"></a>"
   ]
  },
  {
   "cell_type": "code",
   "execution_count": 8,
   "metadata": {},
   "outputs": [],
   "source": [
    "## Store the LiDAR data as infile\n",
    "infile = laspy.file.File(\"./3_2.las\", mode=\"r\")\n",
    "## Get the value for x axis, y axis, and elevation for LiDAR point cloud\n",
    "ground_x = infile.x\n",
    "ground_y = infile.y\n",
    "ground_z = infile.z\n",
    "## Normalize the output for the LiDAR file\n",
    "ground_x_2=ground_x-ground_x.min()\n",
    "ground_y_2=ground_y-ground_y.min()"
   ]
  },
  {
   "cell_type": "markdown",
   "metadata": {},
   "source": [
    "The total amount of LiDAR point in the LiDAR file"
   ]
  },
  {
   "cell_type": "code",
   "execution_count": 9,
   "metadata": {},
   "outputs": [
    {
     "data": {
      "text/plain": [
       "5546582"
      ]
     },
     "execution_count": 9,
     "metadata": {},
     "output_type": "execute_result"
    }
   ],
   "source": [
    "len(ground_z)"
   ]
  },
  {
   "cell_type": "markdown",
   "metadata": {},
   "source": [
    "The x, y, z value for points in the LiDAR file are stored"
   ]
  },
  {
   "cell_type": "code",
   "execution_count": 10,
   "metadata": {},
   "outputs": [],
   "source": [
    "x = ground_x_2\n",
    "y = ground_y_2\n",
    "z = ground_z"
   ]
  },
  {
   "cell_type": "markdown",
   "metadata": {},
   "source": [
    "Use a dictionary to store the datset"
   ]
  },
  {
   "cell_type": "code",
   "execution_count": 11,
   "metadata": {},
   "outputs": [],
   "source": [
    "threedarray = np.vstack((x,y,z)).T\n",
    "dictionary=pd.Series(threedarray.tolist(), index=map(lambda a: round(a,2), x.tolist()))"
   ]
  },
  {
   "cell_type": "markdown",
   "metadata": {},
   "source": [
    "An example of the format of the dataset"
   ]
  },
  {
   "cell_type": "code",
   "execution_count": 12,
   "metadata": {},
   "outputs": [
    {
     "data": {
      "text/plain": [
       "1.11     [1.1100000001024455, 238.38000000000466, 690.64]\n",
       "1.11     [1.1100000001024455, 357.63000000000466, 691.02]\n",
       "1.11     [1.1100000001024455, 493.71999999997206, 695.84]\n",
       "1.11     [1.1100000001024455, 510.03000000002794, 695.94]\n",
       "1.11    [1.1100000001024455, 543.7900000000373, 694.55...\n",
       "1.11      [1.1100000001024455, 608.5899999999674, 694.42]\n",
       "1.11      [1.1100000001024455, 668.1500000000233, 698.37]\n",
       "1.11      [1.1100000001024455, 804.5600000000559, 698.38]\n",
       "1.11      [1.1100000001024455, 803.4599999999627, 698.38]\n",
       "1.11      [1.1100000001024455, 795.9000000000233, 698.37]\n",
       "1.11      [1.1100000001024455, 829.4000000000233, 698.32]\n",
       "1.11      [1.1100000001024455, 843.5400000000373, 697.71]\n",
       "1.11       [1.1100000001024455, 850.109999999986, 697.59]\n",
       "1.11                 [1.1100000001024455, 899.75, 699.48]\n",
       "1.11      [1.1100000001024455, 927.9899999999907, 699.64]\n",
       "1.11      [1.1100000001024455, 1039.5100000000093, 699.7]\n",
       "1.11     [1.1100000001024455, 1207.2900000000373, 703.09]\n",
       "1.11                [1.1100000001024455, 1221.25, 704.29]\n",
       "1.11     [1.1100000001024455, 1261.1600000000326, 707.38]\n",
       "1.11      [1.1100000001024455, 1298.140000000014, 707.98]\n",
       "1.11      [1.1100000001024455, 1284.0899999999674, 707.6]\n",
       "1.11      [1.1100000001024455, 1332.920000000042, 708.77]\n",
       "1.11      [1.1100000001024455, 1338.140000000014, 708.79]\n",
       "1.11      [1.1100000001024455, 1457.170000000042, 711.67]\n",
       "1.11      [1.1100000001024455, 1442.109999999986, 711.32]\n",
       "1.11      [1.1100000001024455, 1463.6600000000326, 711.9]\n",
       "1.11    [1.1100000001024455, 1756.0500000000466, 712.6...\n",
       "dtype: object"
      ]
     },
     "execution_count": 12,
     "metadata": {},
     "output_type": "execute_result"
    }
   ],
   "source": [
    "dictionary[1.11]"
   ]
  },
  {
   "cell_type": "markdown",
   "metadata": {},
   "source": [
    "## Create a hash table data structure to store the LiDAR data <a class=\"anchor\" id=\"chapter2\"></a>"
   ]
  },
  {
   "cell_type": "markdown",
   "metadata": {},
   "source": [
    "Create the index for each LiDAR data point"
   ]
  },
  {
   "cell_type": "code",
   "execution_count": 13,
   "metadata": {},
   "outputs": [],
   "source": [
    "list_a=map(lambda a: 10000*int(a), x.tolist())\n",
    "list_b=map(lambda a: int(a), y.tolist())\n",
    "index_list=[sum(x) for x in zip(list_a, list_b)]"
   ]
  },
  {
   "cell_type": "markdown",
   "metadata": {},
   "source": [
    "Generate the hash table and use dictionary data structure to store the dataset"
   ]
  },
  {
   "cell_type": "code",
   "execution_count": 14,
   "metadata": {},
   "outputs": [],
   "source": [
    "grid_dictionary=pd.Series(threedarray.tolist(), index=index_list)"
   ]
  },
  {
   "cell_type": "markdown",
   "metadata": {},
   "source": [
    "Get a overview of the dataset"
   ]
  },
  {
   "cell_type": "code",
   "execution_count": 15,
   "metadata": {
    "scrolled": true
   },
   "outputs": [
    {
     "data": {
      "text/plain": [
       "16        [0.02000000001862645, 16.46999999997206, 688.92]\n",
       "6              [0.0, 6.800000000046566, 688.9300000000001]\n",
       "28                       [0.0, 28.400000000023283, 688.96]\n",
       "280008     [28.010000000009313, 8.900000000023283, 689.47]\n",
       "60002       [6.370000000111759, 2.2800000000279397, 689.0]\n",
       "                                ...                       \n",
       "352542      [35.6500000001397, 2542.0200000000186, 702.96]\n",
       "322542     [32.199999999953434, 2542.030000000028, 702.85]\n",
       "372542       [37.40999999991618, 2542.930000000051, 703.2]\n",
       "372547                  [37.75, 2547.359999999986, 703.51]\n",
       "482542      [48.47999999998137, 2542.0200000000186, 704.2]\n",
       "Length: 5546582, dtype: object"
      ]
     },
     "execution_count": 15,
     "metadata": {},
     "output_type": "execute_result"
    }
   ],
   "source": [
    "grid_dictionary"
   ]
  },
  {
   "cell_type": "markdown",
   "metadata": {},
   "source": [
    "## Function to find the elevation  <a class=\"anchor\" id=\"chapter3\"></a>"
   ]
  },
  {
   "cell_type": "markdown",
   "metadata": {},
   "source": [
    "This is the function used in the algorithm to find the elevation of any given point (x, y) using bilinear interpolation."
   ]
  },
  {
   "cell_type": "code",
   "execution_count": 16,
   "metadata": {},
   "outputs": [],
   "source": [
    "def find_elevation_new(x, y):\n",
    "    #bilinear interpolation\n",
    "    storage = []\n",
    "    curr_index = 10000*int(x)+int(y)\n",
    "    diff= 0\n",
    "    while(len(storage)<4):\n",
    "        ## Find all the data within the nearby grid\n",
    "        temp = []\n",
    "        ## For loop here to find candidate points for bilinear interpolation\n",
    "        for i in range(int(x-diff), int(x+diff+1)):\n",
    "            for j in range(int(y-diff), int(y+diff+1)):\n",
    "                if (i==int(x-diff) or i==int(x+diff) or j==int(y-diff) or j==int(y+diff)):\n",
    "                    try:\n",
    "                        rt = grid_dictionary[10000*i+j]\n",
    "                        if (type(rt)==list):\n",
    "                            temp.append(rt)\n",
    "                        else:\n",
    "                            for it in range(0,len(rt)):\n",
    "                                temp.append(rt[it])\n",
    "                    except:\n",
    "                        useless=1\n",
    "        temp.sort(key=lambda e: (e[0]-x)*(e[0]-x)+(e[1]-y)*(e[1]-y))\n",
    "        if (len(storage)+len(temp)<=4):\n",
    "            ## add them\n",
    "            for i in range(0,len(temp)):\n",
    "                storage.append(temp[i])\n",
    "        else:\n",
    "            k=0\n",
    "            while(len(storage)!=4):\n",
    "                storage.append(temp[k])\n",
    "                k=k+1\n",
    "        diff = diff+1\n",
    "    ## find the points used for data interpolation\n",
    "    new_storage = storage[:4]\n",
    "    a=[[1,new_storage[0][0],new_storage[0][1],new_storage[0][0]*new_storage[0][1]],\n",
    "       [1,new_storage[1][0],new_storage[1][1],new_storage[1][0]*new_storage[1][1]],\n",
    "       [1,new_storage[2][0],new_storage[2][1],new_storage[2][0]*new_storage[2][1]],\n",
    "       [1,new_storage[3][0],new_storage[3][1],new_storage[3][0]*new_storage[3][1]]]\n",
    "    b=[new_storage[0][2], new_storage[1][2], new_storage[2][2],new_storage[3][2]]\n",
    "    try:\n",
    "        ## Conduct bilinear interpolation\n",
    "        coef_matrix = np.matmul(inv(a), b)\n",
    "        rt = coef_matrix[0]+coef_matrix[1]*x+coef_matrix[2]*y+coef_matrix[3]*x*y\n",
    "        return rt\n",
    "    except:\n",
    "        return 10000"
   ]
  },
  {
   "cell_type": "markdown",
   "metadata": {},
   "source": [
    "## Simulate the water flow <a class=\"anchor\" id=\"chapter4\"></a>\n",
    "This is the major step in the algorithm that is used for simulation of the water flow."
   ]
  },
  {
   "cell_type": "code",
   "execution_count": 17,
   "metadata": {},
   "outputs": [
    {
     "name": "stdout",
     "output_type": "stream",
     "text": [
      "2021-04-29 07:13:08.929913\n",
      "(500, 500)\n",
      "(500, 501)\n",
      "(500, 502)\n",
      "(500, 503)\n",
      "(500, 504)\n",
      "(500, 505)\n",
      "(500, 506)\n",
      "(500, 507)\n",
      "(500, 508)\n",
      "(500, 509)\n",
      "(500, 510)\n",
      "(501, 500)\n",
      "(501, 501)\n",
      "(501, 502)\n",
      "(501, 503)\n",
      "(501, 504)\n",
      "(501, 505)\n",
      "(501, 506)\n",
      "(501, 507)\n",
      "(501, 508)\n",
      "(501, 509)\n",
      "(501, 510)\n",
      "(502, 500)\n",
      "(502, 501)\n",
      "(502, 502)\n",
      "(502, 503)\n",
      "(502, 504)\n",
      "(502, 505)\n",
      "(502, 506)\n",
      "(502, 507)\n",
      "(502, 508)\n",
      "(502, 509)\n",
      "(502, 510)\n",
      "(503, 500)\n",
      "(503, 501)\n",
      "(503, 502)\n",
      "(503, 503)\n",
      "(503, 504)\n",
      "(503, 505)\n",
      "(503, 506)\n",
      "(503, 507)\n",
      "(503, 508)\n",
      "(503, 509)\n",
      "(503, 510)\n",
      "(504, 500)\n",
      "(504, 501)\n",
      "(504, 502)\n",
      "(504, 503)\n",
      "(504, 504)\n",
      "(504, 505)\n",
      "(504, 506)\n",
      "(504, 507)\n",
      "(504, 508)\n",
      "(504, 509)\n",
      "(504, 510)\n",
      "(505, 500)\n",
      "(505, 501)\n",
      "(505, 502)\n",
      "(505, 503)\n",
      "(505, 504)\n",
      "(505, 505)\n",
      "(505, 506)\n",
      "(505, 507)\n",
      "(505, 508)\n",
      "(505, 509)\n",
      "(505, 510)\n",
      "(506, 500)\n",
      "(506, 501)\n",
      "(506, 502)\n",
      "(506, 503)\n",
      "(506, 504)\n",
      "(506, 505)\n",
      "(506, 506)\n",
      "(506, 507)\n",
      "(506, 508)\n",
      "(506, 509)\n",
      "(506, 510)\n",
      "(507, 500)\n",
      "(507, 501)\n",
      "(507, 502)\n",
      "(507, 503)\n",
      "(507, 504)\n",
      "(507, 505)\n",
      "(507, 506)\n",
      "(507, 507)\n",
      "(507, 508)\n",
      "(507, 509)\n",
      "(507, 510)\n",
      "(508, 500)\n",
      "(508, 501)\n",
      "(508, 502)\n",
      "(508, 503)\n",
      "(508, 504)\n",
      "(508, 505)\n",
      "(508, 506)\n",
      "(508, 507)\n",
      "(508, 508)\n",
      "(508, 509)\n",
      "(508, 510)\n",
      "(509, 500)\n",
      "(509, 501)\n",
      "(509, 502)\n",
      "(509, 503)\n",
      "(509, 504)\n",
      "(509, 505)\n",
      "(509, 506)\n",
      "(509, 507)\n",
      "(509, 508)\n",
      "(509, 509)\n",
      "(509, 510)\n",
      "(510, 500)\n",
      "(510, 501)\n",
      "(510, 502)\n",
      "(510, 503)\n",
      "(510, 504)\n",
      "(510, 505)\n",
      "(510, 506)\n",
      "(510, 507)\n",
      "(510, 508)\n",
      "(510, 509)\n",
      "(510, 510)\n",
      "2021-04-29 07:22:28.010755\n"
     ]
    }
   ],
   "source": [
    "## The area_length variable here represents how large the area the users want to calculate.\n",
    "area_length = 10\n",
    "\n",
    "## Print the current time before the execution of the algorithm\n",
    "print(datetime.datetime.now())\n",
    "min_x = var1*100\n",
    "min_y = var2*100\n",
    "max_x = var1*100+area_length\n",
    "max_y = var2*100+area_length\n",
    "increment = 1\n",
    "angle = var3\n",
    "x_coord = min_x\n",
    "y_coord = min_y\n",
    "rt = []\n",
    "while x_coord!=(max_x+1):\n",
    "    while y_coord!=(max_y+1):\n",
    "        ## find the elevation of the current coordinate\n",
    "        curr_elevation = find_elevation_new(x_coord, y_coord)\n",
    "        curr_x = x_coord\n",
    "        curr_y = y_coord\n",
    "        #print(\"Starting Point:\")\n",
    "        print((curr_x,curr_y))\n",
    "        curr_array = []\n",
    "        while ((curr_x>=min_x and curr_x<=max_x) and (curr_y>=min_y and curr_y<=max_y)):\n",
    "            #print((curr_x, curr_y, curr_elevation))\n",
    "            curr_array.append((curr_x, curr_y))\n",
    "            rt_x = curr_x\n",
    "            rt_y = curr_y\n",
    "            rt_elevation = curr_elevation\n",
    "            angel_diff = 0\n",
    "            ## find the elevation of all candidate points\n",
    "            while(angel_diff<360):\n",
    "                new_x = curr_x+increment*math.sin(math.pi/180*angel_diff)\n",
    "                new_y = curr_y+increment*math.cos(math.pi/180*angel_diff)\n",
    "                new_elevation = find_elevation_new(new_x, new_y)\n",
    "                #print((angel_diff,new_x,new_y,new_elevation,rt_x,rt_y,rt_elevation))\n",
    "                if (new_elevation<rt_elevation):\n",
    "                    rt_x = new_x\n",
    "                    rt_y = new_y\n",
    "                    rt_elevation = new_elevation\n",
    "                angel_diff = angel_diff+angle\n",
    "            ## Check if the data is a pit or not\n",
    "            if (rt_elevation<curr_elevation):\n",
    "                curr_x = rt_x\n",
    "                curr_y = rt_y\n",
    "                curr_elevation = rt_elevation\n",
    "            else:\n",
    "                break\n",
    "        rt.append(curr_array)\n",
    "        #print(\"Result For:\")\n",
    "        #print((x_coord,y_coord))\n",
    "        #print(curr_array)\n",
    "        y_coord=y_coord+1\n",
    "    y_coord = min_y\n",
    "    x_coord=x_coord+1\n",
    "## Print the end time of the execution\n",
    "print(datetime.datetime.now())"
   ]
  },
  {
   "cell_type": "markdown",
   "metadata": {},
   "source": [
    "Print the simulated water flow"
   ]
  },
  {
   "cell_type": "code",
   "execution_count": 18,
   "metadata": {
    "scrolled": true
   },
   "outputs": [
    {
     "name": "stdout",
     "output_type": "stream",
     "text": [
      "[[(500, 500)], [(500, 501)], [(500, 502)], [(500, 503)], [(500, 504)], [(500, 505)], [(500, 506)], [(500, 507)], [(500, 508)], [(500, 509)], [(500, 510)], [(501, 500), (500.0, 500.0)], [(501, 501), (500.5, 501.8660254037844)], [(501, 502), (500.1339745962156, 501.5)], [(501, 503), (500.1339745962156, 502.5)], [(501, 504), (500.0, 504.0)], [(501, 505), (500.5, 504.1339745962156)], [(501, 506), (500.0, 506.0)], [(501, 507), (500.1339745962156, 507.5)], [(501, 508), (500.1339745962156, 508.5)], [(501, 509), (500.1339745962156, 509.5)], [(501, 510)], [(502, 500), (501.0, 500.0), (500.0, 500.0)], [(502, 501), (501.0, 501.0), (500.5, 501.8660254037844)], [(502, 502), (502.5, 501.1339745962156)], [(502, 503), (501.0, 503.0), (500.1339745962156, 502.5)], [(502, 504), (501.1339745962156, 503.5), (500.1339745962156, 503.5)], [(502, 505), (501.5, 504.1339745962156), (500.5, 504.1339745962156)], [(502, 506), (501.1339745962156, 506.5), (500.26794919243116, 507.0)], [(502, 507), (501.1339745962156, 507.5), (500.26794919243116, 508.0)], [(502, 508), (501.5, 508.8660254037844), (500.6339745962156, 509.3660254037844)], [(502, 509), (501.1339745962156, 509.5), (500.26794919243116, 510.0)], [(502, 510)], [(503, 500), (502.0, 500.0), (501.0, 500.0), (500.0, 500.0)], [(503, 501), (502.0, 501.0), (501.0, 501.0), (500.5, 501.8660254037844)], [(503, 502), (502.5, 501.1339745962156)], [(503, 503), (502.0, 503.0), (501.0, 503.0), (500.1339745962156, 502.5)], [(503, 504), (502.0, 504.0), (501.1339745962156, 503.5), (500.1339745962156, 503.5)], [(503, 505), (502.5, 504.1339745962156), (501.5, 504.1339745962156), (500.5, 504.1339745962156)], [(503, 506), (502.0, 506.0), (501.1339745962156, 506.5), (500.26794919243116, 507.0)], [(503, 507), (502.5, 507.8660254037844), (502.0, 508.73205080756884), (501.1339745962156, 509.23205080756884), (500.26794919243116, 509.73205080756884)], [(503, 508), (502.5, 508.8660254037844), (501.5, 508.8660254037844), (500.6339745962156, 509.3660254037844)], [(503, 509), (502.1339745962156, 509.5), (501.26794919243116, 510.0)], [(503, 510)], [(504, 500)], [(504, 501), (503.0, 501.0), (502.0, 501.0), (501.0, 501.0), (500.5, 501.8660254037844)], [(504, 502), (503.1339745962156, 502.5), (502.26794919243116, 503.0), (501.40192378864674, 502.5), (500.5358983848623, 502.0)], [(504, 503), (503.0, 503.0), (502.0, 503.0), (501.0, 503.0), (500.1339745962156, 502.5)], [(504, 504), (503.0, 504.0), (502.0, 504.0), (501.1339745962156, 503.5), (500.1339745962156, 503.5)], [(504, 505), (503.1339745962156, 504.5), (502.26794919243116, 505.0), (502.76794919243116, 504.1339745962156)], [(504, 506), (503.0, 506.0), (502.0, 506.0), (501.1339745962156, 506.5), (500.26794919243116, 507.0)], [(504, 507), (503.1339745962156, 507.5), (502.6339745962156, 508.3660254037844), (502.1339745962156, 509.23205080756884), (501.26794919243116, 509.73205080756884)], [(504, 508), (503.1339745962156, 508.5), (502.26794919243116, 509.0), (501.40192378864674, 509.5)], [(504, 509), (503.1339745962156, 509.5), (502.26794919243116, 510.0)], [(504, 510)], [(505, 500), (506.0, 500.0)], [(505, 501), (504.1339745962156, 501.5), (503.26794919243116, 502.0), (502.40192378864674, 502.5), (501.40192378864674, 502.5), (500.5358983848623, 502.0)], [(505, 502), (504.0, 502.0), (503.1339745962156, 502.5), (502.26794919243116, 503.0), (501.40192378864674, 502.5), (500.5358983848623, 502.0)], [(505, 503), (504.1339745962156, 503.5), (503.26794919243116, 504.0), (502.26794919243116, 504.0), (501.26794919243116, 504.0), (500.26794919243116, 504.0)], [(505, 504), (504.0, 504.0), (503.0, 504.0), (502.0, 504.0), (501.1339745962156, 503.5), (500.1339745962156, 503.5)], [(505, 505), (504.0, 505.0), (503.1339745962156, 504.5), (502.26794919243116, 505.0), (502.76794919243116, 504.1339745962156)], [(505, 506), (504.1339745962156, 506.5), (503.6339745962156, 507.3660254037844), (502.76794919243116, 507.8660254037844), (502.26794919243116, 508.73205080756884), (501.76794919243116, 509.59807621135326)], [(505, 507), (504.1339745962156, 506.5), (503.6339745962156, 507.3660254037844), (502.76794919243116, 507.8660254037844), (502.26794919243116, 508.73205080756884), (501.76794919243116, 509.59807621135326)], [(505, 508), (504.1339745962156, 507.5), (503.26794919243116, 508.0), (502.40192378864674, 508.5), (501.90192378864674, 509.3660254037844)], [(505, 509), (504.1339745962156, 509.5), (503.26794919243116, 510.0)], [(505, 510)], [(506, 500)], [(506, 501), (506.0, 500.0)], [(506, 502), (506.8660254037844, 502.5)], [(506, 503), (506.8660254037844, 502.5)], [(506, 504), (505.0, 504.0), (504.0, 504.0), (503.0, 504.0), (502.0, 504.0), (501.1339745962156, 503.5), (500.1339745962156, 503.5)], [(506, 505), (505.0, 505.0), (504.0, 505.0), (503.1339745962156, 504.5), (502.26794919243116, 505.0), (502.76794919243116, 504.1339745962156)], [(506, 506), (505.1339745962156, 505.5), (504.1339745962156, 505.5), (504.1339745962156, 506.5), (503.6339745962156, 507.3660254037844), (502.76794919243116, 507.8660254037844), (502.26794919243116, 508.73205080756884), (501.76794919243116, 509.59807621135326)], [(506, 507), (505.1339745962156, 507.5), (504.1339745962156, 507.5), (503.26794919243116, 508.0), (502.40192378864674, 508.5), (501.90192378864674, 509.3660254037844)], [(506, 508), (505.1339745962156, 507.5), (504.1339745962156, 507.5), (503.26794919243116, 508.0), (502.40192378864674, 508.5), (501.90192378864674, 509.3660254037844)], [(506, 509), (505.5, 509.8660254037844)], [(506, 510)], [(507, 500), (506.0, 500.0)], [(507, 501), (506.1339745962156, 500.5)], [(507, 502), (506.1339745962156, 502.5), (505.6339745962156, 501.6339745962156), (504.76794919243116, 502.1339745962156), (503.76794919243116, 502.1339745962156), (502.90192378864674, 502.6339745962156), (502.0358983848623, 503.1339745962156), (501.1698729810779, 503.6339745962156), (500.3038475772935, 504.1339745962156)], [(507, 503), (506.0, 503.0), (506.8660254037844, 502.5)], [(507, 504), (506.0, 504.0), (505.0, 504.0), (504.0, 504.0), (503.0, 504.0), (502.0, 504.0), (501.1339745962156, 503.5), (500.1339745962156, 503.5)], [(507, 505), (507.8660254037844, 505.5)], [(507, 506), (507.8660254037844, 505.5)], [(507, 507), (507.5, 507.8660254037844)], [(507, 508), (507.5, 508.8660254037844), (507.5, 507.8660254037844)], [(507, 509), (506.1339745962156, 509.5)], [(507, 510), (506.0, 510.0)], [(508, 500)], [(508, 501), (507.5, 500.1339745962156)], [(508, 502), (507.0, 502.0), (506.1339745962156, 502.5), (505.6339745962156, 501.6339745962156), (504.76794919243116, 502.1339745962156), (503.76794919243116, 502.1339745962156), (502.90192378864674, 502.6339745962156), (502.0358983848623, 503.1339745962156), (501.1698729810779, 503.6339745962156), (500.3038475772935, 504.1339745962156)], [(508, 503), (507.0, 503.0), (506.0, 503.0), (506.8660254037844, 502.5)], [(508, 504), (507.1339745962156, 503.5), (506.26794919243116, 503.0), (505.26794919243116, 503.0), (504.40192378864674, 503.5), (503.5358983848623, 504.0), (502.5358983848623, 504.0), (501.5358983848623, 504.0), (500.6698729810779, 503.5), (500.1698729810779, 504.3660254037844)], [(508, 505), (507.5, 505.8660254037844), (506.6339745962156, 506.3660254037844), (506.1339745962156, 507.23205080756884), (505.1339745962156, 507.23205080756884)], [(508, 506), (507.1339745962156, 506.5), (507.6339745962156, 505.6339745962156)], [(508, 507), (507.5, 507.8660254037844)], [(508, 508), (507.5, 508.8660254037844), (507.5, 507.8660254037844)], [(508, 509), (509.0, 509.0)], [(508, 510), (507.5, 509.1339745962156), (507.0, 508.26794919243116)], [(509, 500), (508.0, 500.0)], [(509, 501), (508.1339745962156, 500.5)], [(509, 502), (508.0, 502.0), (507.0, 502.0), (506.1339745962156, 502.5), (505.6339745962156, 501.6339745962156), (504.76794919243116, 502.1339745962156), (503.76794919243116, 502.1339745962156), (502.90192378864674, 502.6339745962156), (502.0358983848623, 503.1339745962156), (501.1698729810779, 503.6339745962156), (500.3038475772935, 504.1339745962156)], [(509, 503), (508.0, 503.0), (507.0, 503.0), (506.0, 503.0), (506.8660254037844, 502.5)], [(509, 504), (508.1339745962156, 504.5), (507.26794919243116, 504.0), (506.26794919243116, 504.0), (505.26794919243116, 504.0), (504.26794919243116, 504.0), (503.26794919243116, 504.0), (502.26794919243116, 504.0), (501.26794919243116, 504.0), (500.26794919243116, 504.0)], [(509, 505), (508.1339745962156, 505.5), (507.26794919243116, 506.0), (507.76794919243116, 505.1339745962156)], [(509, 506), (508.1339745962156, 506.5), (507.6339745962156, 505.6339745962156)], [(509, 507), (508.1339745962156, 507.5), (507.1339745962156, 507.5), (507.1339745962156, 508.5)], [(509, 508), (509.0, 509.0)], [(509, 509)], [(509, 510), (509.0, 509.0)], [(510, 500)], [(510, 501), (509.0, 501.0), (508.1339745962156, 500.5)], [(510, 502), (509.0, 502.0), (508.0, 502.0), (507.0, 502.0), (506.1339745962156, 502.5), (505.6339745962156, 501.6339745962156), (504.76794919243116, 502.1339745962156), (503.76794919243116, 502.1339745962156), (502.90192378864674, 502.6339745962156), (502.0358983848623, 503.1339745962156), (501.1698729810779, 503.6339745962156), (500.3038475772935, 504.1339745962156)], [(510, 503), (509.1339745962156, 502.5), (508.1339745962156, 502.5), (507.1339745962156, 502.5), (506.26794919243116, 503.0), (505.26794919243116, 503.0), (504.40192378864674, 503.5), (503.5358983848623, 504.0), (502.5358983848623, 504.0), (501.5358983848623, 504.0), (500.6698729810779, 503.5), (500.1698729810779, 504.3660254037844)], [(510, 504), (509.1339745962156, 504.5), (508.6339745962156, 505.3660254037844), (507.76794919243116, 505.8660254037844)], [(510, 505), (509.1339745962156, 505.5), (508.1339745962156, 505.5), (507.26794919243116, 506.0), (507.76794919243116, 505.1339745962156)], [(510, 506), (510.0, 507.0), (510.0, 508.0)], [(510, 507), (510.0, 508.0)], [(510, 508)], [(510, 509), (509.0, 509.0)], [(510, 510), (509.1339745962156, 509.5)]]\n"
     ]
    }
   ],
   "source": [
    "print(rt)\n",
    "    \n",
    "data = []\n",
    "## Print the simulated waterflow\n",
    "for i in range(0,area_length+1):\n",
    "    data.append([0]*(area_length+1))\n"
   ]
  },
  {
   "cell_type": "markdown",
   "metadata": {},
   "source": [
    "### Track the flow direction <a class=\"anchor\" id=\"section_4_1\"></a>"
   ]
  },
  {
   "cell_type": "code",
   "execution_count": 19,
   "metadata": {},
   "outputs": [],
   "source": [
    "for i in range(0,len(rt)):\n",
    "    for j in range(0,len(rt[i])):\n",
    "        data[int(math.floor(rt[i][j][0]))-var1*100][int(math.floor(rt[i][j][1]))-var2*100]=data[int(math.floor(rt[i][j][0]))-var1*100][int(math.floor(rt[i][j][1]))-var2*100]+1"
   ]
  },
  {
   "cell_type": "markdown",
   "metadata": {},
   "source": [
    "## Visulization<a class=\"anchor\" id=\"chapter5\"></a>"
   ]
  },
  {
   "cell_type": "markdown",
   "metadata": {},
   "source": [
    "The result after tracking the water direction"
   ]
  },
  {
   "cell_type": "code",
   "execution_count": 20,
   "metadata": {},
   "outputs": [
    {
     "name": "stdout",
     "output_type": "stream",
     "text": [
      "[[4, 6, 8, 9, 13, 1, 2, 5, 3, 5, 2], [3, 4, 4, 14, 7, 1, 4, 2, 3, 11, 2], [2, 5, 6, 9, 14, 4, 3, 5, 10, 4, 2], [1, 2, 8, 2, 12, 1, 2, 5, 5, 2, 2], [1, 2, 6, 4, 5, 4, 4, 4, 1, 2, 1], [1, 5, 1, 3, 4, 3, 1, 4, 1, 2, 1], [5, 1, 10, 6, 3, 1, 2, 2, 1, 2, 2], [2, 1, 5, 4, 2, 9, 4, 6, 5, 2, 1], [4, 1, 4, 2, 2, 4, 2, 2, 1, 1, 1], [1, 2, 3, 1, 2, 2, 1, 1, 1, 6, 1], [1, 1, 1, 1, 1, 1, 1, 2, 3, 1, 1]]\n"
     ]
    }
   ],
   "source": [
    "print(data)"
   ]
  },
  {
   "cell_type": "markdown",
   "metadata": {},
   "source": [
    "Simple visulization of the result, with brighter area having more water flowing through"
   ]
  },
  {
   "cell_type": "code",
   "execution_count": 21,
   "metadata": {},
   "outputs": [
    {
     "data": {
      "image/png": "[encoded data removed]",
      "text/plain": [
       "<Figure size 432x288 with 1 Axes>"
      ]
     },
     "metadata": {
      "needs_background": "light"
     },
     "output_type": "display_data"
    }
   ],
   "source": [
    "%matplotlib inline\n",
    "import matplotlib.pyplot as plt\n",
    "\n",
    "plt.imshow(data, interpolation='none')\n",
    "plt.show()"
   ]
  }
 ],
 "metadata": {
  "kernelspec": {
   "display_name": "Python 3",
   "language": "python",
   "name": "python3"
  },
  "language_info": {
   "codemirror_mode": {
    "name": "ipython",
    "version": 3
   },
   "file_extension": ".py",
   "mimetype": "text/x-python",
   "name": "python",
   "nbconvert_exporter": "python",
   "pygments_lexer": "ipython3",
   "version": "3.7.6"
  }
 },
 "nbformat": 4,
 "nbformat_minor": 4
}
